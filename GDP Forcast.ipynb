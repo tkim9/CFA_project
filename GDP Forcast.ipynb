{
 "cells": [
  {
   "cell_type": "code",
   "execution_count": 1,
   "metadata": {
    "collapsed": true
   },
   "outputs": [],
   "source": [
    "import numpy as np\n",
    "import pandas as pd\n",
    "import matplotlib.pyplot as plt"
   ]
  },
  {
   "cell_type": "code",
   "execution_count": 2,
   "metadata": {
    "collapsed": true
   },
   "outputs": [],
   "source": [
    "df = pd.read_csv('Oregon GDP.csv')"
   ]
  },
  {
   "cell_type": "code",
   "execution_count": 3,
   "metadata": {},
   "outputs": [
    {
     "data": {
      "text/html": [
       "<div>\n",
       "<style scoped>\n",
       "    .dataframe tbody tr th:only-of-type {\n",
       "        vertical-align: middle;\n",
       "    }\n",
       "\n",
       "    .dataframe tbody tr th {\n",
       "        vertical-align: top;\n",
       "    }\n",
       "\n",
       "    .dataframe thead th {\n",
       "        text-align: right;\n",
       "    }\n",
       "</style>\n",
       "<table border=\"1\" class=\"dataframe\">\n",
       "  <thead>\n",
       "    <tr style=\"text-align: right;\">\n",
       "      <th></th>\n",
       "      <th>Industry</th>\n",
       "      <th>All industry total</th>\n",
       "      <th>Private industries</th>\n",
       "      <th>Agriculture, forestry, fishing, and hunting</th>\n",
       "      <th>Mining</th>\n",
       "      <th>Utilities</th>\n",
       "      <th>Construction</th>\n",
       "      <th>Manufacturing</th>\n",
       "      <th>Durable goods manufacturing</th>\n",
       "      <th>Nondurable goods manufacturing</th>\n",
       "      <th>...</th>\n",
       "      <th>Real estate and rental and leasing</th>\n",
       "      <th>Professional, scientific, and technical services</th>\n",
       "      <th>Management of companies and enterprises</th>\n",
       "      <th>Administrative and waste management services</th>\n",
       "      <th>Educational services</th>\n",
       "      <th>Health care and social assistance</th>\n",
       "      <th>Arts, entertainment, and recreation</th>\n",
       "      <th>Accommodation and food services</th>\n",
       "      <th>Other services, except government</th>\n",
       "      <th>Government</th>\n",
       "    </tr>\n",
       "  </thead>\n",
       "  <tbody>\n",
       "    <tr>\n",
       "      <th>0</th>\n",
       "      <td>2005:Q1</td>\n",
       "      <td>145585</td>\n",
       "      <td>126710</td>\n",
       "      <td>3400</td>\n",
       "      <td>255</td>\n",
       "      <td>1579</td>\n",
       "      <td>6800</td>\n",
       "      <td>29676</td>\n",
       "      <td>25106</td>\n",
       "      <td>4571</td>\n",
       "      <td>...</td>\n",
       "      <td>19173</td>\n",
       "      <td>6422</td>\n",
       "      <td>2883</td>\n",
       "      <td>3858</td>\n",
       "      <td>1019</td>\n",
       "      <td>9991</td>\n",
       "      <td>932</td>\n",
       "      <td>3643</td>\n",
       "      <td>3547</td>\n",
       "      <td>18874</td>\n",
       "    </tr>\n",
       "    <tr>\n",
       "      <th>1</th>\n",
       "      <td>2005:Q2</td>\n",
       "      <td>146010</td>\n",
       "      <td>127631</td>\n",
       "      <td>3389</td>\n",
       "      <td>269</td>\n",
       "      <td>1724</td>\n",
       "      <td>6915</td>\n",
       "      <td>28524</td>\n",
       "      <td>23961</td>\n",
       "      <td>4563</td>\n",
       "      <td>...</td>\n",
       "      <td>19991</td>\n",
       "      <td>6452</td>\n",
       "      <td>2902</td>\n",
       "      <td>3926</td>\n",
       "      <td>1020</td>\n",
       "      <td>10036</td>\n",
       "      <td>960</td>\n",
       "      <td>3670</td>\n",
       "      <td>3566</td>\n",
       "      <td>18379</td>\n",
       "    </tr>\n",
       "    <tr>\n",
       "      <th>2</th>\n",
       "      <td>2005:Q3</td>\n",
       "      <td>147654</td>\n",
       "      <td>129354</td>\n",
       "      <td>3421</td>\n",
       "      <td>276</td>\n",
       "      <td>1809</td>\n",
       "      <td>7310</td>\n",
       "      <td>29232</td>\n",
       "      <td>24546</td>\n",
       "      <td>4686</td>\n",
       "      <td>...</td>\n",
       "      <td>19237</td>\n",
       "      <td>6504</td>\n",
       "      <td>2943</td>\n",
       "      <td>3997</td>\n",
       "      <td>1034</td>\n",
       "      <td>10301</td>\n",
       "      <td>954</td>\n",
       "      <td>3715</td>\n",
       "      <td>3598</td>\n",
       "      <td>18300</td>\n",
       "    </tr>\n",
       "    <tr>\n",
       "      <th>3</th>\n",
       "      <td>2005:Q4</td>\n",
       "      <td>150891</td>\n",
       "      <td>132256</td>\n",
       "      <td>3568</td>\n",
       "      <td>324</td>\n",
       "      <td>1619</td>\n",
       "      <td>7496</td>\n",
       "      <td>30547</td>\n",
       "      <td>25746</td>\n",
       "      <td>4801</td>\n",
       "      <td>...</td>\n",
       "      <td>20203</td>\n",
       "      <td>6647</td>\n",
       "      <td>2721</td>\n",
       "      <td>4020</td>\n",
       "      <td>1071</td>\n",
       "      <td>10455</td>\n",
       "      <td>987</td>\n",
       "      <td>3809</td>\n",
       "      <td>3672</td>\n",
       "      <td>18634</td>\n",
       "    </tr>\n",
       "    <tr>\n",
       "      <th>4</th>\n",
       "      <td>2006:Q1</td>\n",
       "      <td>159942</td>\n",
       "      <td>141162</td>\n",
       "      <td>3770</td>\n",
       "      <td>300</td>\n",
       "      <td>1716</td>\n",
       "      <td>8076</td>\n",
       "      <td>35380</td>\n",
       "      <td>30406</td>\n",
       "      <td>4974</td>\n",
       "      <td>...</td>\n",
       "      <td>20818</td>\n",
       "      <td>6736</td>\n",
       "      <td>3201</td>\n",
       "      <td>4200</td>\n",
       "      <td>1108</td>\n",
       "      <td>11130</td>\n",
       "      <td>982</td>\n",
       "      <td>3907</td>\n",
       "      <td>3754</td>\n",
       "      <td>18781</td>\n",
       "    </tr>\n",
       "  </tbody>\n",
       "</table>\n",
       "<p>5 rows × 25 columns</p>\n",
       "</div>"
      ],
      "text/plain": [
       "  Industry  All industry total    Private industries  \\\n",
       "0  2005:Q1              145585                126710   \n",
       "1  2005:Q2              146010                127631   \n",
       "2  2005:Q3              147654                129354   \n",
       "3  2005:Q4              150891                132256   \n",
       "4  2006:Q1              159942                141162   \n",
       "\n",
       "         Agriculture, forestry, fishing, and hunting        Mining  \\\n",
       "0                                               3400           255   \n",
       "1                                               3389           269   \n",
       "2                                               3421           276   \n",
       "3                                               3568           324   \n",
       "4                                               3770           300   \n",
       "\n",
       "         Utilities        Construction        Manufacturing  \\\n",
       "0             1579                6800                29676   \n",
       "1             1724                6915                28524   \n",
       "2             1809                7310                29232   \n",
       "3             1619                7496                30547   \n",
       "4             1716                8076                35380   \n",
       "\n",
       "             Durable goods manufacturing  \\\n",
       "0                                  25106   \n",
       "1                                  23961   \n",
       "2                                  24546   \n",
       "3                                  25746   \n",
       "4                                  30406   \n",
       "\n",
       "             Nondurable goods manufacturing      ...       \\\n",
       "0                                      4571      ...        \n",
       "1                                      4563      ...        \n",
       "2                                      4686      ...        \n",
       "3                                      4801      ...        \n",
       "4                                      4974      ...        \n",
       "\n",
       "         Real estate and rental and leasing  \\\n",
       "0                                     19173   \n",
       "1                                     19991   \n",
       "2                                     19237   \n",
       "3                                     20203   \n",
       "4                                     20818   \n",
       "\n",
       "         Professional, scientific, and technical services  \\\n",
       "0                                               6422        \n",
       "1                                               6452        \n",
       "2                                               6504        \n",
       "3                                               6647        \n",
       "4                                               6736        \n",
       "\n",
       "         Management of companies and enterprises  \\\n",
       "0                                           2883   \n",
       "1                                           2902   \n",
       "2                                           2943   \n",
       "3                                           2721   \n",
       "4                                           3201   \n",
       "\n",
       "         Administrative and waste management services  \\\n",
       "0                                               3858    \n",
       "1                                               3926    \n",
       "2                                               3997    \n",
       "3                                               4020    \n",
       "4                                               4200    \n",
       "\n",
       "         Educational services        Health care and social assistance  \\\n",
       "0                        1019                                     9991   \n",
       "1                        1020                                    10036   \n",
       "2                        1034                                    10301   \n",
       "3                        1071                                    10455   \n",
       "4                        1108                                    11130   \n",
       "\n",
       "         Arts, entertainment, and recreation  \\\n",
       "0                                        932   \n",
       "1                                        960   \n",
       "2                                        954   \n",
       "3                                        987   \n",
       "4                                        982   \n",
       "\n",
       "         Accommodation and food services  \\\n",
       "0                                   3643   \n",
       "1                                   3670   \n",
       "2                                   3715   \n",
       "3                                   3809   \n",
       "4                                   3907   \n",
       "\n",
       "         Other services, except government    Government  \n",
       "0                                     3547         18874  \n",
       "1                                     3566         18379  \n",
       "2                                     3598         18300  \n",
       "3                                     3672         18634  \n",
       "4                                     3754         18781  \n",
       "\n",
       "[5 rows x 25 columns]"
      ]
     },
     "execution_count": 3,
     "metadata": {},
     "output_type": "execute_result"
    }
   ],
   "source": [
    "df.head()"
   ]
  },
  {
   "cell_type": "code",
   "execution_count": 4,
   "metadata": {},
   "outputs": [
    {
     "data": {
      "text/plain": [
       "Index(['Industry', 'All industry total', '  Private industries',\n",
       "       '      Agriculture, forestry, fishing, and hunting', '      Mining',\n",
       "       '      Utilities', '      Construction', '      Manufacturing',\n",
       "       '          Durable goods manufacturing',\n",
       "       '          Nondurable goods manufacturing', '      Wholesale trade',\n",
       "       '      Retail trade', '      Transportation and warehousing',\n",
       "       '      Information', '      Finance and insurance',\n",
       "       '      Real estate and rental and leasing',\n",
       "       '      Professional, scientific, and technical services',\n",
       "       '      Management of companies and enterprises',\n",
       "       '      Administrative and waste management services',\n",
       "       '      Educational services', '      Health care and social assistance',\n",
       "       '      Arts, entertainment, and recreation',\n",
       "       '      Accommodation and food services',\n",
       "       '      Other services, except government', '  Government'],\n",
       "      dtype='object')"
      ]
     },
     "execution_count": 4,
     "metadata": {},
     "output_type": "execute_result"
    }
   ],
   "source": [
    "df.columns"
   ]
  },
  {
   "cell_type": "code",
   "execution_count": 5,
   "metadata": {
    "collapsed": true
   },
   "outputs": [],
   "source": [
    "df.columns = (['Date', 'Total', '  Private industries',\n",
    "       '      Agriculture, forestry, fishing, and hunting', '      Mining',\n",
    "       '      Utilities', '      Construction', '      Manufacturing',\n",
    "       '          Durable goods manufacturing',\n",
    "       '          Nondurable goods manufacturing', '      Wholesale trade',\n",
    "       '      Retail trade', '      Transportation and warehousing',\n",
    "       '      Information', '      Finance and insurance',\n",
    "       '      Real estate and rental and leasing',\n",
    "       '      Professional, scientific, and technical services',\n",
    "       '      Management of companies and enterprises',\n",
    "       '      Administrative and waste management services',\n",
    "       '      Educational services', '      Health care and social assistance',\n",
    "       '      Arts, entertainment, and recreation',\n",
    "       '      Accommodation and food services',\n",
    "       '      Other services, except government', '  Government'])"
   ]
  },
  {
   "cell_type": "code",
   "execution_count": 6,
   "metadata": {
    "collapsed": true
   },
   "outputs": [],
   "source": [
    "df['index1'] = df.index"
   ]
  },
  {
   "cell_type": "code",
   "execution_count": 7,
   "metadata": {
    "scrolled": true
   },
   "outputs": [
    {
     "data": {
      "text/plain": [
       "[<matplotlib.lines.Line2D at 0x1ea7e55b470>]"
      ]
     },
     "execution_count": 7,
     "metadata": {},
     "output_type": "execute_result"
    },
    {
     "data": {
      "image/png": "[encoded data removed]",
      "text/plain": [
       "<matplotlib.figure.Figure at 0x1ea7e490d68>"
      ]
     },
     "metadata": {},
     "output_type": "display_data"
    }
   ],
   "source": [
    "%matplotlib inline\n",
    "plt.plot(df['Total'])"
   ]
  },
  {
   "cell_type": "code",
   "execution_count": 8,
   "metadata": {
    "collapsed": true
   },
   "outputs": [],
   "source": [
    "from sklearn.model_selection import train_test_split\n",
    "from sklearn.linear_model import LinearRegression\n",
    "import seaborn as sns"
   ]
  },
  {
   "cell_type": "code",
   "execution_count": 9,
   "metadata": {
    "collapsed": true
   },
   "outputs": [],
   "source": [
    "X = df[['index1']]\n",
    "y = df['Total']"
   ]
  },
  {
   "cell_type": "code",
   "execution_count": 10,
   "metadata": {
    "collapsed": true
   },
   "outputs": [],
   "source": [
    "X_train, X_test, y_train, y_test = train_test_split(X,y, test_size=0.25, random_state= 11)"
   ]
  },
  {
   "cell_type": "code",
   "execution_count": 11,
   "metadata": {
    "collapsed": true
   },
   "outputs": [],
   "source": [
    "lm = LinearRegression()"
   ]
  },
  {
   "cell_type": "code",
   "execution_count": 12,
   "metadata": {},
   "outputs": [
    {
     "data": {
      "text/plain": [
       "LinearRegression(copy_X=True, fit_intercept=True, n_jobs=1, normalize=False)"
      ]
     },
     "execution_count": 12,
     "metadata": {},
     "output_type": "execute_result"
    }
   ],
   "source": [
    "lm.fit(X_train, y_train)"
   ]
  },
  {
   "cell_type": "code",
   "execution_count": 13,
   "metadata": {
    "collapsed": true
   },
   "outputs": [],
   "source": [
    "pred = lm.predict(X_test)"
   ]
  },
  {
   "cell_type": "code",
   "execution_count": 14,
   "metadata": {},
   "outputs": [
    {
     "data": {
      "text/plain": [
       "<matplotlib.axes._subplots.AxesSubplot at 0x1ea02936048>"
      ]
     },
     "execution_count": 14,
     "metadata": {},
     "output_type": "execute_result"
    },
    {
     "data": {
      "image/png": "[encoded data removed]",
      "text/plain": [
       "<matplotlib.figure.Figure at 0x1ea02767f28>"
      ]
     },
     "metadata": {},
     "output_type": "display_data"
    }
   ],
   "source": [
    "sns.distplot((y_test - pred))"
   ]
  },
  {
   "cell_type": "code",
   "execution_count": 15,
   "metadata": {},
   "outputs": [
    {
     "data": {
      "text/plain": [
       "<matplotlib.collections.PathCollection at 0x1ea029f2898>"
      ]
     },
     "execution_count": 15,
     "metadata": {},
     "output_type": "execute_result"
    },
    {
     "data": {
      "image/png": "[encoded data removed]",
      "text/plain": [
       "<matplotlib.figure.Figure at 0x1ea02954fd0>"
      ]
     },
     "metadata": {},
     "output_type": "display_data"
    }
   ],
   "source": [
    "plt.scatter(y_test, pred)"
   ]
  },
  {
   "cell_type": "code",
   "execution_count": 49,
   "metadata": {},
   "outputs": [
    {
     "data": {
      "text/plain": [
       "<matplotlib.axes._subplots.AxesSubplot at 0x1ea03102eb8>"
      ]
     },
     "execution_count": 49,
     "metadata": {},
     "output_type": "execute_result"
    },
    {
     "data": {
      "image/png": "[encoded data removed]",
      "text/plain": [
       "<matplotlib.figure.Figure at 0x1ea0316d5f8>"
      ]
     },
     "metadata": {},
     "output_type": "display_data"
    }
   ],
   "source": [
    "sns.kdeplot(y_test, pred)"
   ]
  },
  {
   "cell_type": "code",
   "execution_count": 16,
   "metadata": {},
   "outputs": [
    {
     "data": {
      "text/html": [
       "<div>\n",
       "<style scoped>\n",
       "    .dataframe tbody tr th:only-of-type {\n",
       "        vertical-align: middle;\n",
       "    }\n",
       "\n",
       "    .dataframe tbody tr th {\n",
       "        vertical-align: top;\n",
       "    }\n",
       "\n",
       "    .dataframe thead th {\n",
       "        text-align: right;\n",
       "    }\n",
       "</style>\n",
       "<table border=\"1\" class=\"dataframe\">\n",
       "  <thead>\n",
       "    <tr style=\"text-align: right;\">\n",
       "      <th></th>\n",
       "      <th>Date</th>\n",
       "      <th>Total</th>\n",
       "      <th>Private industries</th>\n",
       "      <th>Agriculture, forestry, fishing, and hunting</th>\n",
       "      <th>Mining</th>\n",
       "      <th>Utilities</th>\n",
       "      <th>Construction</th>\n",
       "      <th>Manufacturing</th>\n",
       "      <th>Durable goods manufacturing</th>\n",
       "      <th>Nondurable goods manufacturing</th>\n",
       "      <th>...</th>\n",
       "      <th>Professional, scientific, and technical services</th>\n",
       "      <th>Management of companies and enterprises</th>\n",
       "      <th>Administrative and waste management services</th>\n",
       "      <th>Educational services</th>\n",
       "      <th>Health care and social assistance</th>\n",
       "      <th>Arts, entertainment, and recreation</th>\n",
       "      <th>Accommodation and food services</th>\n",
       "      <th>Other services, except government</th>\n",
       "      <th>Government</th>\n",
       "      <th>index1</th>\n",
       "    </tr>\n",
       "  </thead>\n",
       "  <tbody>\n",
       "    <tr>\n",
       "      <th>45</th>\n",
       "      <td>2016:Q2</td>\n",
       "      <td>228293</td>\n",
       "      <td>202027</td>\n",
       "      <td>4129</td>\n",
       "      <td>261</td>\n",
       "      <td>3477</td>\n",
       "      <td>9317</td>\n",
       "      <td>50568</td>\n",
       "      <td>44203</td>\n",
       "      <td>6365</td>\n",
       "      <td>...</td>\n",
       "      <td>11327</td>\n",
       "      <td>7285</td>\n",
       "      <td>5913</td>\n",
       "      <td>1725</td>\n",
       "      <td>17766</td>\n",
       "      <td>1700</td>\n",
       "      <td>6766</td>\n",
       "      <td>4794</td>\n",
       "      <td>26267</td>\n",
       "      <td>45</td>\n",
       "    </tr>\n",
       "    <tr>\n",
       "      <th>46</th>\n",
       "      <td>2016:Q3</td>\n",
       "      <td>228621</td>\n",
       "      <td>202300</td>\n",
       "      <td>4144</td>\n",
       "      <td>276</td>\n",
       "      <td>3594</td>\n",
       "      <td>9315</td>\n",
       "      <td>49444</td>\n",
       "      <td>43180</td>\n",
       "      <td>6264</td>\n",
       "      <td>...</td>\n",
       "      <td>11551</td>\n",
       "      <td>6992</td>\n",
       "      <td>5980</td>\n",
       "      <td>1723</td>\n",
       "      <td>18133</td>\n",
       "      <td>1659</td>\n",
       "      <td>6845</td>\n",
       "      <td>4847</td>\n",
       "      <td>26320</td>\n",
       "      <td>46</td>\n",
       "    </tr>\n",
       "    <tr>\n",
       "      <th>47</th>\n",
       "      <td>2016:Q4</td>\n",
       "      <td>232544</td>\n",
       "      <td>205607</td>\n",
       "      <td>4190</td>\n",
       "      <td>300</td>\n",
       "      <td>3539</td>\n",
       "      <td>9524</td>\n",
       "      <td>49898</td>\n",
       "      <td>43575</td>\n",
       "      <td>6323</td>\n",
       "      <td>...</td>\n",
       "      <td>11600</td>\n",
       "      <td>6806</td>\n",
       "      <td>6064</td>\n",
       "      <td>1753</td>\n",
       "      <td>18329</td>\n",
       "      <td>1811</td>\n",
       "      <td>6988</td>\n",
       "      <td>4906</td>\n",
       "      <td>26937</td>\n",
       "      <td>47</td>\n",
       "    </tr>\n",
       "    <tr>\n",
       "      <th>48</th>\n",
       "      <td>2017:Q1</td>\n",
       "      <td>233575</td>\n",
       "      <td>206589</td>\n",
       "      <td>4080</td>\n",
       "      <td>316</td>\n",
       "      <td>3642</td>\n",
       "      <td>9687</td>\n",
       "      <td>49918</td>\n",
       "      <td>43428</td>\n",
       "      <td>6490</td>\n",
       "      <td>...</td>\n",
       "      <td>11669</td>\n",
       "      <td>7070</td>\n",
       "      <td>5965</td>\n",
       "      <td>1768</td>\n",
       "      <td>18370</td>\n",
       "      <td>1824</td>\n",
       "      <td>6975</td>\n",
       "      <td>4904</td>\n",
       "      <td>26986</td>\n",
       "      <td>48</td>\n",
       "    </tr>\n",
       "    <tr>\n",
       "      <th>49</th>\n",
       "      <td>2017:Q2</td>\n",
       "      <td>236102</td>\n",
       "      <td>208944</td>\n",
       "      <td>4211</td>\n",
       "      <td>322</td>\n",
       "      <td>3743</td>\n",
       "      <td>9923</td>\n",
       "      <td>50283</td>\n",
       "      <td>43702</td>\n",
       "      <td>6581</td>\n",
       "      <td>...</td>\n",
       "      <td>11883</td>\n",
       "      <td>7178</td>\n",
       "      <td>6141</td>\n",
       "      <td>1775</td>\n",
       "      <td>18650</td>\n",
       "      <td>1872</td>\n",
       "      <td>7071</td>\n",
       "      <td>4969</td>\n",
       "      <td>27158</td>\n",
       "      <td>49</td>\n",
       "    </tr>\n",
       "  </tbody>\n",
       "</table>\n",
       "<p>5 rows × 26 columns</p>\n",
       "</div>"
      ],
      "text/plain": [
       "       Date   Total    Private industries  \\\n",
       "45  2016:Q2  228293                202027   \n",
       "46  2016:Q3  228621                202300   \n",
       "47  2016:Q4  232544                205607   \n",
       "48  2017:Q1  233575                206589   \n",
       "49  2017:Q2  236102                208944   \n",
       "\n",
       "          Agriculture, forestry, fishing, and hunting        Mining  \\\n",
       "45                                               4129           261   \n",
       "46                                               4144           276   \n",
       "47                                               4190           300   \n",
       "48                                               4080           316   \n",
       "49                                               4211           322   \n",
       "\n",
       "          Utilities        Construction        Manufacturing  \\\n",
       "45             3477                9317                50568   \n",
       "46             3594                9315                49444   \n",
       "47             3539                9524                49898   \n",
       "48             3642                9687                49918   \n",
       "49             3743                9923                50283   \n",
       "\n",
       "              Durable goods manufacturing  \\\n",
       "45                                  44203   \n",
       "46                                  43180   \n",
       "47                                  43575   \n",
       "48                                  43428   \n",
       "49                                  43702   \n",
       "\n",
       "              Nondurable goods manufacturing   ...    \\\n",
       "45                                      6365   ...     \n",
       "46                                      6264   ...     \n",
       "47                                      6323   ...     \n",
       "48                                      6490   ...     \n",
       "49                                      6581   ...     \n",
       "\n",
       "          Professional, scientific, and technical services  \\\n",
       "45                                              11327        \n",
       "46                                              11551        \n",
       "47                                              11600        \n",
       "48                                              11669        \n",
       "49                                              11883        \n",
       "\n",
       "          Management of companies and enterprises  \\\n",
       "45                                           7285   \n",
       "46                                           6992   \n",
       "47                                           6806   \n",
       "48                                           7070   \n",
       "49                                           7178   \n",
       "\n",
       "          Administrative and waste management services  \\\n",
       "45                                               5913    \n",
       "46                                               5980    \n",
       "47                                               6064    \n",
       "48                                               5965    \n",
       "49                                               6141    \n",
       "\n",
       "          Educational services        Health care and social assistance  \\\n",
       "45                        1725                                    17766   \n",
       "46                        1723                                    18133   \n",
       "47                        1753                                    18329   \n",
       "48                        1768                                    18370   \n",
       "49                        1775                                    18650   \n",
       "\n",
       "          Arts, entertainment, and recreation  \\\n",
       "45                                       1700   \n",
       "46                                       1659   \n",
       "47                                       1811   \n",
       "48                                       1824   \n",
       "49                                       1872   \n",
       "\n",
       "          Accommodation and food services  \\\n",
       "45                                   6766   \n",
       "46                                   6845   \n",
       "47                                   6988   \n",
       "48                                   6975   \n",
       "49                                   7071   \n",
       "\n",
       "          Other services, except government    Government  index1  \n",
       "45                                     4794         26267      45  \n",
       "46                                     4847         26320      46  \n",
       "47                                     4906         26937      47  \n",
       "48                                     4904         26986      48  \n",
       "49                                     4969         27158      49  \n",
       "\n",
       "[5 rows x 26 columns]"
      ]
     },
     "execution_count": 16,
     "metadata": {},
     "output_type": "execute_result"
    }
   ],
   "source": [
    "df.tail()"
   ]
  },
  {
   "cell_type": "code",
   "execution_count": 17,
   "metadata": {
    "collapsed": true
   },
   "outputs": [],
   "source": [
    "next4Qs = np.array(range(50,90)).reshape(-1,1)"
   ]
  },
  {
   "cell_type": "code",
   "execution_count": 18,
   "metadata": {
    "collapsed": true
   },
   "outputs": [],
   "source": [
    "future = lm.predict(next4Qs)"
   ]
  },
  {
   "cell_type": "code",
   "execution_count": 19,
   "metadata": {},
   "outputs": [
    {
     "data": {
      "text/plain": [
       "array([231741.04845504, 233299.74317358, 234858.43789213, 236417.13261068,\n",
       "       237975.82732923, 239534.52204778, 241093.21676633, 242651.91148487,\n",
       "       244210.60620342, 245769.30092197, 247327.99564052, 248886.69035907,\n",
       "       250445.38507762, 252004.07979616, 253562.77451471, 255121.46923326,\n",
       "       256680.16395181, 258238.85867036, 259797.55338891, 261356.24810746,\n",
       "       262914.942826  , 264473.63754455, 266032.3322631 , 267591.02698165,\n",
       "       269149.7217002 , 270708.41641875, 272267.11113729, 273825.80585584,\n",
       "       275384.50057439, 276943.19529294, 278501.89001149, 280060.58473004,\n",
       "       281619.27944858, 283177.97416713, 284736.66888568, 286295.36360423,\n",
       "       287854.05832278, 289412.75304133, 290971.44775988, 292530.14247842])"
      ]
     },
     "execution_count": 19,
     "metadata": {},
     "output_type": "execute_result"
    }
   ],
   "source": [
    "future"
   ]
  },
  {
   "cell_type": "code",
   "execution_count": 20,
   "metadata": {
    "collapsed": true
   },
   "outputs": [],
   "source": [
    "from sklearn import metrics"
   ]
  },
  {
   "cell_type": "code",
   "execution_count": 21,
   "metadata": {
    "collapsed": true
   },
   "outputs": [],
   "source": [
    "mse = metrics.mean_squared_error(y_test, pred)"
   ]
  },
  {
   "cell_type": "code",
   "execution_count": 22,
   "metadata": {},
   "outputs": [
    {
     "data": {
      "text/plain": [
       "6188.949259315265"
      ]
     },
     "execution_count": 22,
     "metadata": {},
     "output_type": "execute_result"
    }
   ],
   "source": [
    "np.sqrt(mse)"
   ]
  },
  {
   "cell_type": "code",
   "execution_count": 23,
   "metadata": {
    "collapsed": true
   },
   "outputs": [],
   "source": [
    "r_square = metrics.r2_score(y_test, pred)"
   ]
  },
  {
   "cell_type": "code",
   "execution_count": 24,
   "metadata": {},
   "outputs": [
    {
     "data": {
      "text/plain": [
       "0.9370759840719168"
      ]
     },
     "execution_count": 24,
     "metadata": {},
     "output_type": "execute_result"
    }
   ],
   "source": [
    "r_square"
   ]
  },
  {
   "cell_type": "code",
   "execution_count": 25,
   "metadata": {
    "collapsed": true
   },
   "outputs": [],
   "source": [
    "from statsmodels.formula.api  import ols\n",
    "reg = ols(formula = 'y ~  X', data = df).fit()\n",
    "summary = reg.summary()"
   ]
  },
  {
   "cell_type": "code",
   "execution_count": 26,
   "metadata": {},
   "outputs": [
    {
     "data": {
      "text/plain": [
       "<bound method Summary.as_html of <class 'statsmodels.iolib.summary.Summary'>\n",
       "\"\"\"\n",
       "                            OLS Regression Results                            \n",
       "==============================================================================\n",
       "Dep. Variable:                      y   R-squared:                       0.937\n",
       "Model:                            OLS   Adj. R-squared:                  0.936\n",
       "Method:                 Least Squares   F-statistic:                     719.8\n",
       "Date:                Tue, 30 Jan 2018   Prob (F-statistic):           1.50e-30\n",
       "Time:                        20:03:54   Log-Likelihood:                -504.33\n",
       "No. Observations:                  50   AIC:                             1013.\n",
       "Df Residuals:                      48   BIC:                             1016.\n",
       "Df Model:                           1                                         \n",
       "Covariance Type:            nonrobust                                         \n",
       "==============================================================================\n",
       "                 coef    std err          t      P>|t|      [0.025      0.975]\n",
       "------------------------------------------------------------------------------\n",
       "Intercept   1.535e+05   1652.943     92.877      0.000     1.5e+05    1.57e+05\n",
       "X           1559.6262     58.132     26.829      0.000    1442.743    1676.509\n",
       "==============================================================================\n",
       "Omnibus:                        7.378   Durbin-Watson:                   0.212\n",
       "Prob(Omnibus):                  0.025   Jarque-Bera (JB):                4.353\n",
       "Skew:                          -0.537   Prob(JB):                        0.113\n",
       "Kurtosis:                       2.032   Cond. No.                         56.1\n",
       "==============================================================================\n",
       "\n",
       "Warnings:\n",
       "[1] Standard Errors assume that the covariance matrix of the errors is correctly specified.\n",
       "\"\"\">"
      ]
     },
     "execution_count": 26,
     "metadata": {},
     "output_type": "execute_result"
    }
   ],
   "source": [
    "summary.as_html"
   ]
  },
  {
   "cell_type": "code",
   "execution_count": 27,
   "metadata": {
    "collapsed": true
   },
   "outputs": [],
   "source": [
    "gdp = df['Total']"
   ]
  },
  {
   "cell_type": "code",
   "execution_count": 28,
   "metadata": {
    "collapsed": true
   },
   "outputs": [],
   "source": [
    "df2 = gdp.append(pd.Series(future)).reset_index()"
   ]
  },
  {
   "cell_type": "code",
   "execution_count": 29,
   "metadata": {
    "collapsed": true
   },
   "outputs": [],
   "source": [
    "df2.drop(columns = 'index', axis=1, inplace=True)"
   ]
  },
  {
   "cell_type": "code",
   "execution_count": 30,
   "metadata": {},
   "outputs": [
    {
     "data": {
      "text/html": [
       "<div>\n",
       "<style scoped>\n",
       "    .dataframe tbody tr th:only-of-type {\n",
       "        vertical-align: middle;\n",
       "    }\n",
       "\n",
       "    .dataframe tbody tr th {\n",
       "        vertical-align: top;\n",
       "    }\n",
       "\n",
       "    .dataframe thead th {\n",
       "        text-align: right;\n",
       "    }\n",
       "</style>\n",
       "<table border=\"1\" class=\"dataframe\">\n",
       "  <thead>\n",
       "    <tr style=\"text-align: right;\">\n",
       "      <th></th>\n",
       "      <th>0</th>\n",
       "    </tr>\n",
       "  </thead>\n",
       "  <tbody>\n",
       "    <tr>\n",
       "      <th>85</th>\n",
       "      <td>286295.363604</td>\n",
       "    </tr>\n",
       "    <tr>\n",
       "      <th>86</th>\n",
       "      <td>287854.058323</td>\n",
       "    </tr>\n",
       "    <tr>\n",
       "      <th>87</th>\n",
       "      <td>289412.753041</td>\n",
       "    </tr>\n",
       "    <tr>\n",
       "      <th>88</th>\n",
       "      <td>290971.447760</td>\n",
       "    </tr>\n",
       "    <tr>\n",
       "      <th>89</th>\n",
       "      <td>292530.142478</td>\n",
       "    </tr>\n",
       "  </tbody>\n",
       "</table>\n",
       "</div>"
      ],
      "text/plain": [
       "                0\n",
       "85  286295.363604\n",
       "86  287854.058323\n",
       "87  289412.753041\n",
       "88  290971.447760\n",
       "89  292530.142478"
      ]
     },
     "execution_count": 30,
     "metadata": {},
     "output_type": "execute_result"
    }
   ],
   "source": [
    "df2.tail()"
   ]
  },
  {
   "cell_type": "code",
   "execution_count": 31,
   "metadata": {
    "collapsed": true
   },
   "outputs": [],
   "source": [
    "df2.columns = ['gdp']"
   ]
  },
  {
   "cell_type": "code",
   "execution_count": 32,
   "metadata": {},
   "outputs": [
    {
     "data": {
      "text/plain": [
       "0.002919256791565017"
      ]
     },
     "execution_count": 32,
     "metadata": {},
     "output_type": "execute_result"
    }
   ],
   "source": [
    "(df2['gdp'][1] / df2['gdp'][0]) -1"
   ]
  },
  {
   "cell_type": "code",
   "execution_count": 33,
   "metadata": {
    "collapsed": true
   },
   "outputs": [],
   "source": [
    "ser1 = []\n",
    "ser1.append(0.0)\n",
    "for i in range(0,89):\n",
    "    revenue = df2['gdp'][i+1] / df2['gdp'][i] - 1\n",
    "    ser1.append(revenue)"
   ]
  },
  {
   "cell_type": "code",
   "execution_count": 34,
   "metadata": {
    "collapsed": true
   },
   "outputs": [],
   "source": [
    "df2['change'] = ser1"
   ]
  },
  {
   "cell_type": "code",
   "execution_count": 35,
   "metadata": {},
   "outputs": [
    {
     "data": {
      "text/html": [
       "<div>\n",
       "<style scoped>\n",
       "    .dataframe tbody tr th:only-of-type {\n",
       "        vertical-align: middle;\n",
       "    }\n",
       "\n",
       "    .dataframe tbody tr th {\n",
       "        vertical-align: top;\n",
       "    }\n",
       "\n",
       "    .dataframe thead th {\n",
       "        text-align: right;\n",
       "    }\n",
       "</style>\n",
       "<table border=\"1\" class=\"dataframe\">\n",
       "  <thead>\n",
       "    <tr style=\"text-align: right;\">\n",
       "      <th></th>\n",
       "      <th>gdp</th>\n",
       "      <th>change</th>\n",
       "    </tr>\n",
       "  </thead>\n",
       "  <tbody>\n",
       "    <tr>\n",
       "      <th>0</th>\n",
       "      <td>145585.0</td>\n",
       "      <td>0.000000</td>\n",
       "    </tr>\n",
       "    <tr>\n",
       "      <th>1</th>\n",
       "      <td>146010.0</td>\n",
       "      <td>0.002919</td>\n",
       "    </tr>\n",
       "    <tr>\n",
       "      <th>2</th>\n",
       "      <td>147654.0</td>\n",
       "      <td>0.011260</td>\n",
       "    </tr>\n",
       "    <tr>\n",
       "      <th>3</th>\n",
       "      <td>150891.0</td>\n",
       "      <td>0.021923</td>\n",
       "    </tr>\n",
       "    <tr>\n",
       "      <th>4</th>\n",
       "      <td>159942.0</td>\n",
       "      <td>0.059984</td>\n",
       "    </tr>\n",
       "  </tbody>\n",
       "</table>\n",
       "</div>"
      ],
      "text/plain": [
       "        gdp    change\n",
       "0  145585.0  0.000000\n",
       "1  146010.0  0.002919\n",
       "2  147654.0  0.011260\n",
       "3  150891.0  0.021923\n",
       "4  159942.0  0.059984"
      ]
     },
     "execution_count": 35,
     "metadata": {},
     "output_type": "execute_result"
    }
   ],
   "source": [
    "df2.head()"
   ]
  },
  {
   "cell_type": "code",
   "execution_count": 36,
   "metadata": {},
   "outputs": [
    {
     "data": {
      "text/html": [
       "<div>\n",
       "<style scoped>\n",
       "    .dataframe tbody tr th:only-of-type {\n",
       "        vertical-align: middle;\n",
       "    }\n",
       "\n",
       "    .dataframe tbody tr th {\n",
       "        vertical-align: top;\n",
       "    }\n",
       "\n",
       "    .dataframe thead th {\n",
       "        text-align: right;\n",
       "    }\n",
       "</style>\n",
       "<table border=\"1\" class=\"dataframe\">\n",
       "  <thead>\n",
       "    <tr style=\"text-align: right;\">\n",
       "      <th></th>\n",
       "      <th>gdp</th>\n",
       "      <th>change</th>\n",
       "    </tr>\n",
       "  </thead>\n",
       "  <tbody>\n",
       "    <tr>\n",
       "      <th>85</th>\n",
       "      <td>286295.363604</td>\n",
       "      <td>0.005474</td>\n",
       "    </tr>\n",
       "    <tr>\n",
       "      <th>86</th>\n",
       "      <td>287854.058323</td>\n",
       "      <td>0.005444</td>\n",
       "    </tr>\n",
       "    <tr>\n",
       "      <th>87</th>\n",
       "      <td>289412.753041</td>\n",
       "      <td>0.005415</td>\n",
       "    </tr>\n",
       "    <tr>\n",
       "      <th>88</th>\n",
       "      <td>290971.447760</td>\n",
       "      <td>0.005386</td>\n",
       "    </tr>\n",
       "    <tr>\n",
       "      <th>89</th>\n",
       "      <td>292530.142478</td>\n",
       "      <td>0.005357</td>\n",
       "    </tr>\n",
       "  </tbody>\n",
       "</table>\n",
       "</div>"
      ],
      "text/plain": [
       "              gdp    change\n",
       "85  286295.363604  0.005474\n",
       "86  287854.058323  0.005444\n",
       "87  289412.753041  0.005415\n",
       "88  290971.447760  0.005386\n",
       "89  292530.142478  0.005357"
      ]
     },
     "execution_count": 36,
     "metadata": {},
     "output_type": "execute_result"
    }
   ],
   "source": [
    "df2.tail()"
   ]
  },
  {
   "cell_type": "code",
   "execution_count": 37,
   "metadata": {},
   "outputs": [
    {
     "data": {
      "text/plain": [
       "2005"
      ]
     },
     "execution_count": 37,
     "metadata": {},
     "output_type": "execute_result"
    }
   ],
   "source": [
    "int(2005+0.1)"
   ]
  },
  {
   "cell_type": "code",
   "execution_count": 38,
   "metadata": {},
   "outputs": [
    {
     "data": {
      "text/plain": [
       "0"
      ]
     },
     "execution_count": 38,
     "metadata": {},
     "output_type": "execute_result"
    }
   ],
   "source": [
    "0 % 4"
   ]
  },
  {
   "cell_type": "code",
   "execution_count": 39,
   "metadata": {},
   "outputs": [
    {
     "data": {
      "text/plain": [
       "['asddf']"
      ]
     },
     "execution_count": 39,
     "metadata": {},
     "output_type": "execute_result"
    }
   ],
   "source": [
    "test =[]\n",
    "test.append('asd'+'df')\n",
    "test"
   ]
  },
  {
   "cell_type": "code",
   "execution_count": 40,
   "metadata": {
    "collapsed": true
   },
   "outputs": [],
   "source": [
    "quar = []\n",
    "\n",
    "for i in range(0,90):\n",
    "    year = int(2005 + i/4)\n",
    "   \n",
    "    if (i+1) % 4 == 0:\n",
    "        quarter = 4\n",
    "    else:\n",
    "        quarter = (i+1) % 4\n",
    "        \n",
    "    quar.append(str(year)+'Q'+str(quarter))"
   ]
  },
  {
   "cell_type": "code",
   "execution_count": 41,
   "metadata": {},
   "outputs": [
    {
     "data": {
      "text/plain": [
       "90"
      ]
     },
     "execution_count": 41,
     "metadata": {},
     "output_type": "execute_result"
    }
   ],
   "source": [
    "len(quar)"
   ]
  },
  {
   "cell_type": "code",
   "execution_count": 42,
   "metadata": {
    "collapsed": true,
    "scrolled": true
   },
   "outputs": [],
   "source": [
    "df2['index1']=quar"
   ]
  },
  {
   "cell_type": "code",
   "execution_count": 43,
   "metadata": {
    "collapsed": true
   },
   "outputs": [],
   "source": [
    "df2.to_csv('quarter_futureGDP.csv')"
   ]
  },
  {
   "cell_type": "code",
   "execution_count": 44,
   "metadata": {
    "collapsed": true
   },
   "outputs": [],
   "source": [
    "df2['year'] = df2['index1'].apply(lambda x: str(x)[0:4])"
   ]
  },
  {
   "cell_type": "code",
   "execution_count": 45,
   "metadata": {
    "collapsed": true
   },
   "outputs": [],
   "source": [
    "df2.groupby('year').sum().to_csv('year_futureGDP.csv')"
   ]
  },
  {
   "cell_type": "code",
   "execution_count": null,
   "metadata": {
    "collapsed": true
   },
   "outputs": [],
   "source": []
  }
 ],
 "metadata": {
  "kernelspec": {
   "display_name": "Python 3",
   "language": "python",
   "name": "python3"
  },
  "language_info": {
   "codemirror_mode": {
    "name": "ipython",
    "version": 3
   },
   "file_extension": ".py",
   "mimetype": "text/x-python",
   "name": "python",
   "nbconvert_exporter": "python",
   "pygments_lexer": "ipython3",
   "version": "3.6.3"
  }
 },
 "nbformat": 4,
 "nbformat_minor": 2
}
